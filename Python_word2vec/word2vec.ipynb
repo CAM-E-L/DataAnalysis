{
 "cells": [
  {
   "cell_type": "code",
   "execution_count": 7,
   "metadata": {},
   "outputs": [],
   "source": [
    "import spacy\n",
    "import pandas as pd"
   ]
  },
  {
   "attachments": {},
   "cell_type": "markdown",
   "metadata": {},
   "source": [
    "### Get current working directory"
   ]
  },
  {
   "attachments": {},
   "cell_type": "markdown",
   "metadata": {},
   "source": [
    "### Config Variables"
   ]
  },
  {
   "cell_type": "code",
   "execution_count": 8,
   "metadata": {},
   "outputs": [],
   "source": [
    "#inputLanguage = \"english\"\n",
    "nlp = spacy.load('en_core_web_lg')\n",
    "LOADFILE = \"C:\\\\Users\\\\fenn\\Desktop\\\\tryPython\\\\summarizedWords(9).txt\"\n",
    "SAVEFILE = \"C:\\\\Users\\\\fenn\\Desktop\\\\tryPython\\\\distanceMatrix_(9).txt\"  # change according to your needs\n",
    "#print(pd.read_csv(LOADFILE, delimiter=\"\\t\").iloc[:, 0])  # for debug"
   ]
  },
  {
   "attachments": {},
   "cell_type": "markdown",
   "metadata": {},
   "source": [
    "### Data preparation"
   ]
  },
  {
   "cell_type": "code",
   "execution_count": 9,
   "metadata": {},
   "outputs": [],
   "source": [
    "rawData = pd.read_csv(LOADFILE, delimiter=\"\\t\").iloc[:, 0].str.cat(others=None, sep=\" \", na_rep=None, join='left') # reads in the file specified by LOADFILE, converting it to a single string of words separated by a blankspace\n",
    "\n",
    "\n",
    "\n",
    "\n",
    "tokens = nlp(rawData)\n",
    "\n",
    "##cleans up data olny for concepts in the model\n",
    "# Defined as a function to be used on multiple datasets if necessary \n",
    "def cleanData(data):\n",
    "    cleanTokens = []\n",
    "    for token in tokens:\n",
    "        if not token.is_oov:\n",
    "            cleanTokens.append(token) \n",
    "    return cleanTokens\n",
    "\n",
    "cleanTokens = cleanData(tokens)"
   ]
  },
  {
   "attachments": {},
   "cell_type": "markdown",
   "metadata": {},
   "source": [
    "### determining string distances"
   ]
  },
  {
   "cell_type": "code",
   "execution_count": 10,
   "metadata": {},
   "outputs": [],
   "source": [
    "## Creates a matrix of word similarities\n",
    "def calcDistanceMatrix(cleanTokens):\n",
    "    df = pd.DataFrame(columns=cleanTokens, index = cleanTokens) # builds al empty pandas dataframe with rows and columns named after the words to be analyzed\n",
    "    for token in cleanTokens:\n",
    "        similiarities = []\n",
    "        for token2 in cleanTokens:\n",
    "            similiarities.append(token.similarity(token2))\n",
    "        df[token] = similiarities\n",
    "    return df\n",
    "\n",
    "distanceMatrixDF = calcDistanceMatrix(cleanTokens)\n"
   ]
  },
  {
   "attachments": {},
   "cell_type": "markdown",
   "metadata": {},
   "source": [
    "#### Printing the Matrix (for testing/debug only)"
   ]
  },
  {
   "cell_type": "code",
   "execution_count": 11,
   "metadata": {},
   "outputs": [
    {
     "name": "stdout",
     "output_type": "stream",
     "text": [
      "                atmosphere   benefit  conflicts  continuous      cost  \\\n",
      "atmosphere        1.000000  0.223023   0.223700    0.260766  0.178016   \n",
      "benefit           0.223023  1.000000   0.250499    0.325303  0.525185   \n",
      "conflicts         0.223700  0.250499   1.000000    0.242969  0.188374   \n",
      "continuous        0.260766  0.325303   0.242969    1.000000  0.270875   \n",
      "cost              0.178016  0.525185   0.188374    0.270875  1.000000   \n",
      "damage            0.198096  0.380937   0.253372    0.266671  0.429101   \n",
      "data              0.122180  0.298778   0.247893    0.356893  0.338244   \n",
      "ease              0.312324  0.404872   0.302731    0.355645  0.368636   \n",
      "expensive         0.246897  0.373266   0.137353    0.193070  0.682025   \n",
      "funding           0.113157  0.568469   0.297500    0.234599  0.438565   \n",
      "health            0.216186  0.567236   0.294831    0.226353  0.421882   \n",
      "involvement       0.251159  0.460345   0.462045    0.309250  0.206166   \n",
      "poverty           0.212788  0.371601   0.404798    0.235641  0.316854   \n",
      "preservation      0.203180  0.409969   0.268307    0.340500  0.258520   \n",
      "quickness         0.108107  0.156474   0.047024    0.115836  0.093389   \n",
      "research          0.162143  0.410755   0.276019    0.244107  0.323651   \n",
      "responsibility    0.228768  0.478538   0.481978    0.286286  0.367791   \n",
      "smelly            0.220347  0.029127   0.024150    0.025514  0.075226   \n",
      "solution          0.213474  0.357539   0.202443    0.366984  0.422637   \n",
      "starvation        0.153269  0.165670   0.302722    0.225901  0.157191   \n",
      "war               0.203063  0.232040   0.536727    0.180050  0.283342   \n",
      "\n",
      "                  damage      data      ease  expensive   funding  ...  \\\n",
      "atmosphere      0.198096  0.122180  0.312324   0.246897  0.113157  ...   \n",
      "benefit         0.380937  0.298778  0.404872   0.373266  0.568469  ...   \n",
      "conflicts       0.253372  0.247893  0.302731   0.137353  0.297500  ...   \n",
      "continuous      0.266671  0.356893  0.355645   0.193070  0.234599  ...   \n",
      "cost            0.429101  0.338244  0.368636   0.682025  0.438565  ...   \n",
      "damage          1.000000  0.235222  0.265724   0.329931  0.223919  ...   \n",
      "data            0.235222  1.000000  0.261221   0.215685  0.290290  ...   \n",
      "ease            0.265724  0.261221  1.000000   0.322110  0.224819  ...   \n",
      "expensive       0.329931  0.215685  0.322110   1.000000  0.279883  ...   \n",
      "funding         0.223919  0.290290  0.224819   0.279883  1.000000  ...   \n",
      "health          0.384324  0.323704  0.338398   0.303479  0.467088  ...   \n",
      "involvement     0.267081  0.176245  0.244045   0.097947  0.489464  ...   \n",
      "poverty         0.227837  0.190953  0.276794   0.187225  0.432121  ...   \n",
      "preservation    0.285435  0.242349  0.224682   0.192627  0.409346  ...   \n",
      "quickness       0.168428  0.027666  0.386767   0.053833  0.023963  ...   \n",
      "research        0.234059  0.502901  0.199638   0.246104  0.524021  ...   \n",
      "responsibility  0.325222  0.271204  0.361089   0.201807  0.444568  ...   \n",
      "smelly          0.127411 -0.072591  0.133860   0.310393 -0.042067  ...   \n",
      "solution        0.206948  0.343259  0.451305   0.356149  0.235909  ...   \n",
      "starvation      0.294088  0.100884  0.181740   0.155697  0.169029  ...   \n",
      "war             0.282766  0.140284  0.210390   0.219208  0.276865  ...   \n",
      "\n",
      "                involvement   poverty  preservation  quickness  research  \\\n",
      "atmosphere         0.251159  0.212788      0.203180   0.108107  0.162143   \n",
      "benefit            0.460345  0.371601      0.409969   0.156474  0.410755   \n",
      "conflicts          0.462045  0.404798      0.268307   0.047024  0.276019   \n",
      "continuous         0.309250  0.235641      0.340500   0.115836  0.244107   \n",
      "cost               0.206166  0.316854      0.258520   0.093389  0.323651   \n",
      "damage             0.267081  0.227837      0.285435   0.168428  0.234059   \n",
      "data               0.176245  0.190953      0.242349   0.027666  0.502901   \n",
      "ease               0.244045  0.276794      0.224682   0.386767  0.199638   \n",
      "expensive          0.097947  0.187225      0.192627   0.053833  0.246104   \n",
      "funding            0.489464  0.432121      0.409346   0.023963  0.524021   \n",
      "health             0.362966  0.435660      0.327100   0.064179  0.526458   \n",
      "involvement        1.000000  0.336254      0.381044   0.106365  0.428541   \n",
      "poverty            0.336254  1.000000      0.247280   0.045476  0.268667   \n",
      "preservation       0.381044  0.247280      1.000000   0.051551  0.393891   \n",
      "quickness          0.106365  0.045476      0.051551   1.000000  0.027020   \n",
      "research           0.428541  0.268667      0.393891   0.027020  1.000000   \n",
      "responsibility     0.587753  0.382414      0.350934   0.152153  0.357016   \n",
      "smelly            -0.017529  0.134541      0.039346   0.061676 -0.006281   \n",
      "solution           0.166406  0.208962      0.238091   0.076697  0.259341   \n",
      "starvation         0.188727  0.544999      0.188800   0.065291  0.108164   \n",
      "war                0.364447  0.382714      0.199230  -0.020229  0.251238   \n",
      "\n",
      "                responsibility    smelly  solution  starvation       war  \n",
      "atmosphere            0.228768  0.220347  0.213474    0.153269  0.203063  \n",
      "benefit               0.478538  0.029127  0.357539    0.165670  0.232040  \n",
      "conflicts             0.481978  0.024150  0.202443    0.302722  0.536727  \n",
      "continuous            0.286286  0.025514  0.366984    0.225901  0.180050  \n",
      "cost                  0.367791  0.075226  0.422637    0.157191  0.283342  \n",
      "damage                0.325222  0.127411  0.206948    0.294088  0.282766  \n",
      "data                  0.271204 -0.072591  0.343259    0.100884  0.140284  \n",
      "ease                  0.361089  0.133860  0.451305    0.181740  0.210390  \n",
      "expensive             0.201807  0.310393  0.356149    0.155697  0.219208  \n",
      "funding               0.444568 -0.042067  0.235909    0.169029  0.276865  \n",
      "health                0.458737  0.092976  0.286359    0.266835  0.295646  \n",
      "involvement           0.587753 -0.017529  0.166406    0.188727  0.364447  \n",
      "poverty               0.382414  0.134541  0.208962    0.544999  0.382714  \n",
      "preservation          0.350934  0.039346  0.238091    0.188800  0.199230  \n",
      "quickness             0.152153  0.061676  0.076697    0.065291 -0.020229  \n",
      "research              0.357016 -0.006281  0.259341    0.108164  0.251238  \n",
      "responsibility        1.000000  0.052498  0.267413    0.162166  0.352962  \n",
      "smelly                0.052498  1.000000  0.133039    0.146414  0.109578  \n",
      "solution              0.267413  0.133039  1.000000    0.171587  0.194949  \n",
      "starvation            0.162166  0.146414  0.171587    1.000000  0.396594  \n",
      "war                   0.352962  0.109578  0.194949    0.396594  1.000000  \n",
      "\n",
      "[21 rows x 21 columns]\n"
     ]
    }
   ],
   "source": [
    "print(distanceMatrixDF)"
   ]
  },
  {
   "attachments": {},
   "cell_type": "markdown",
   "metadata": {},
   "source": [
    "### Exporting a .txt file to/with the location specified by the SAVEFILE variable"
   ]
  },
  {
   "cell_type": "code",
   "execution_count": 12,
   "metadata": {},
   "outputs": [],
   "source": [
    "#export DataFrame to text file\n",
    "with open(SAVEFILE, 'w') as f:  # overwrites existing files of the same name and path. If you want to change that: change line to with open(SAVEFILE, 'x') as f:\n",
    "    distMatString = distanceMatrixDF.to_string(header=True, index=True)\n",
    "    f.write(distMatString)"
   ]
  }
 ],
 "metadata": {
  "kernelspec": {
   "display_name": "Python 3",
   "language": "python",
   "name": "python3"
  },
  "language_info": {
   "codemirror_mode": {
    "name": "ipython",
    "version": 3
   },
   "file_extension": ".py",
   "mimetype": "text/x-python",
   "name": "python",
   "nbconvert_exporter": "python",
   "pygments_lexer": "ipython3",
   "version": "3.9.5"
  },
  "orig_nbformat": 4,
  "vscode": {
   "interpreter": {
    "hash": "81794d4967e6c3204c66dcd87b604927b115b27c00565d3d43f05ba2f3a2cb0d"
   }
  }
 },
 "nbformat": 4,
 "nbformat_minor": 2
}
