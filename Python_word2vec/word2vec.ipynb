{
 "cells": [
  {
   "cell_type": "code",
   "execution_count": 10,
   "metadata": {},
   "outputs": [],
   "source": [
    "import spacy\n",
    "import pandas as pd"
   ]
  },
  {
   "attachments": {},
   "cell_type": "markdown",
   "metadata": {},
   "source": [
    "### Get current working directory"
   ]
  },
  {
   "attachments": {},
   "cell_type": "markdown",
   "metadata": {},
   "source": [
    "### Config Variables"
   ]
  },
  {
   "cell_type": "code",
   "execution_count": 11,
   "metadata": {},
   "outputs": [],
   "source": [
    "#inputLanguage = \"german\"\n",
    "nlp = spacy.load('en_core_web_lg')\n",
    "LOADFILE = \"C:\\\\Users\\\\fenn\\Desktop\\\\tryPython\\\\summarizedWords_2.txt\"\n",
    "SAVEFILE = \"C:\\\\Users\\\\fenn\\Desktop\\\\tryPython\\\\distanceMatrix_2.txt\"  # change according to your needs\n",
    "#print(pd.read_csv(LOADFILE, delimiter=\"\\t\").iloc[:, 0])  # for debug"
   ]
  },
  {
   "attachments": {},
   "cell_type": "markdown",
   "metadata": {},
   "source": [
    "### Data preparation"
   ]
  },
  {
   "cell_type": "code",
   "execution_count": 15,
   "metadata": {},
   "outputs": [
    {
     "name": "stdout",
     "output_type": "stream",
     "text": [
      "1062\n"
     ]
    }
   ],
   "source": [
    "rawData = pd.read_csv(LOADFILE, delimiter=\"\\t\").iloc[:, 0].str.cat(others=None, sep=\" \", na_rep=None, join='left') # reads in the file specified by LOADFILE, converting it to a single string of words separated by a blankspace\n",
    "\n",
    "\n",
    "\n",
    "\n",
    "tokens = nlp(rawData)\n",
    "\n",
    "##cleans up data olny for concepts in the model\n",
    "# Defined as a function to be used on multiple datasets if necessary \n",
    "def cleanData(data):\n",
    "    cleanTokens = []\n",
    "    for token in tokens:\n",
    "        if not token.is_oov:\n",
    "            cleanTokens.append(token) \n",
    "    return cleanTokens\n",
    "\n",
    "cleanTokens = cleanData(tokens)"
   ]
  },
  {
   "attachments": {},
   "cell_type": "markdown",
   "metadata": {},
   "source": [
    "### determining string distances"
   ]
  },
  {
   "cell_type": "code",
   "execution_count": 5,
   "metadata": {},
   "outputs": [],
   "source": [
    "## Creates a matrix of word similarities\n",
    "def calcDistanceMatrix(cleanTokens):\n",
    "    df = pd.DataFrame(columns=cleanTokens, index = cleanTokens) # builds al empty pandas dataframe with rows and columns named after the words to be analyzed\n",
    "    for token in cleanTokens:\n",
    "        similiarities = []\n",
    "        for token2 in cleanTokens:\n",
    "            similiarities.append(token.similarity(token2))\n",
    "        df[token] = similiarities\n",
    "    return df\n",
    "\n",
    "distanceMatrixDF = calcDistanceMatrix(cleanTokens)\n"
   ]
  },
  {
   "attachments": {},
   "cell_type": "markdown",
   "metadata": {},
   "source": [
    "#### Printing the Matrix (for testing/debug only)"
   ]
  },
  {
   "cell_type": "code",
   "execution_count": 6,
   "metadata": {},
   "outputs": [
    {
     "name": "stdout",
     "output_type": "stream",
     "text": [
      "               accountabilty  affordable  airplanes  atmosphere  backlash  \\\n",
      "accountabilty       1.000000   -0.086432  -0.014495   -0.056616  0.114956   \n",
      "affordable         -0.086432    1.000000   0.166442    0.252073  0.014342   \n",
      "airplanes          -0.014495    0.166442   1.000000    0.191157  0.069697   \n",
      "atmosphere         -0.056616    0.252073   0.191157    1.000000  0.174941   \n",
      "backlash            0.114956    0.014342   0.069697    0.174941  1.000000   \n",
      "...                      ...         ...        ...         ...       ...   \n",
      "war                -0.066736    0.086248   0.315623    0.203063  0.308802   \n",
      "wars               -0.062963    0.076174   0.285038    0.135719  0.309832   \n",
      "waste              -0.071983    0.233829   0.180438    0.286779  0.135258   \n",
      "weather            -0.144557    0.210695   0.254036    0.372178  0.113711   \n",
      "weathering          0.100641    0.044378   0.149656    0.276399  0.202351   \n",
      "\n",
      "                 backup   bandaid   benefit  benefits  business  ...  \\\n",
      "accountabilty -0.038174  0.167413 -0.047183 -0.029611 -0.076220  ...   \n",
      "affordable     0.235662  0.050361  0.443769  0.452531  0.422982  ...   \n",
      "airplanes      0.063204  0.020941  0.072764  0.073317  0.218520  ...   \n",
      "atmosphere     0.043401 -0.087539  0.223023  0.211842  0.234130  ...   \n",
      "backlash       0.038052  0.076740  0.194239  0.185207  0.127689  ...   \n",
      "...                 ...       ...       ...       ...       ...  ...   \n",
      "war            0.089249 -0.002155  0.232040  0.211442  0.241486  ...   \n",
      "wars           0.108570  0.089395  0.149924  0.153015  0.194613  ...   \n",
      "waste          0.206093  0.050450  0.310483  0.301399  0.321987  ...   \n",
      "weather        0.146196 -0.033983  0.193878  0.176790  0.228750  ...   \n",
      "weathering    -0.001365  0.092459  0.095030  0.130789  0.062716  ...   \n",
      "\n",
      "                 unkown    unsafe  unsustainable  untested  volcanoes  \\\n",
      "accountabilty  0.171303  0.037595       0.088880  0.054694  -0.043457   \n",
      "affordable    -0.071762  0.180822       0.206873  0.092017   0.022496   \n",
      "airplanes      0.040952  0.311733       0.138247  0.130083   0.240448   \n",
      "atmosphere    -0.001180  0.212707       0.156446  0.022085   0.284014   \n",
      "backlash       0.050905  0.198146       0.255510  0.118050   0.082142   \n",
      "...                 ...       ...            ...       ...        ...   \n",
      "war            0.061502  0.172809       0.244235  0.150545   0.141941   \n",
      "wars           0.050977  0.141406       0.316167  0.099983   0.186713   \n",
      "waste         -0.004981  0.365389       0.350829  0.138049   0.138346   \n",
      "weather       -0.010227  0.236999       0.101753  0.013139   0.292577   \n",
      "weathering     0.090557  0.134080       0.182236  0.104661   0.345180   \n",
      "\n",
      "                    war      wars     waste   weather  weathering  \n",
      "accountabilty -0.066736 -0.062963 -0.071983 -0.144557    0.100641  \n",
      "affordable     0.086248  0.076174  0.233829  0.210695    0.044378  \n",
      "airplanes      0.315623  0.285038  0.180438  0.254036    0.149656  \n",
      "atmosphere     0.203063  0.135719  0.286779  0.372178    0.276399  \n",
      "backlash       0.308802  0.309832  0.135258  0.113711    0.202351  \n",
      "...                 ...       ...       ...       ...         ...  \n",
      "war            1.000000  0.791381  0.263305  0.216042    0.104856  \n",
      "wars           0.791381  1.000000  0.229410  0.135617    0.100839  \n",
      "waste          0.263305  0.229410  1.000000  0.195218    0.141270  \n",
      "weather        0.216042  0.135617  0.195218  1.000000    0.345802  \n",
      "weathering     0.104856  0.100839  0.141270  0.345802    1.000000  \n",
      "\n",
      "[112 rows x 112 columns]\n"
     ]
    }
   ],
   "source": [
    "print(distanceMatrixDF)"
   ]
  },
  {
   "attachments": {},
   "cell_type": "markdown",
   "metadata": {},
   "source": [
    "### Exporting a .txt file to/with the location specified by the SAVEFILE variable"
   ]
  },
  {
   "cell_type": "code",
   "execution_count": 7,
   "metadata": {},
   "outputs": [],
   "source": [
    "#export DataFrame to text file\n",
    "with open(SAVEFILE, 'w') as f:  # overwrites existing files of the same name and path. If you want to change that: change line to with open(SAVEFILE, 'x') as f:\n",
    "    distMatString = distanceMatrixDF.to_string(header=True, index=True)\n",
    "    f.write(distMatString)"
   ]
  }
 ],
 "metadata": {
  "kernelspec": {
   "display_name": "Python 3",
   "language": "python",
   "name": "python3"
  },
  "language_info": {
   "codemirror_mode": {
    "name": "ipython",
    "version": 3
   },
   "file_extension": ".py",
   "mimetype": "text/x-python",
   "name": "python",
   "nbconvert_exporter": "python",
   "pygments_lexer": "ipython3",
   "version": "3.9.5"
  },
  "orig_nbformat": 4,
  "vscode": {
   "interpreter": {
    "hash": "81794d4967e6c3204c66dcd87b604927b115b27c00565d3d43f05ba2f3a2cb0d"
   }
  }
 },
 "nbformat": 4,
 "nbformat_minor": 2
}
