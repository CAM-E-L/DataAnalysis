{
 "cells": [
  {
   "cell_type": "code",
   "execution_count": 1,
   "metadata": {},
   "outputs": [],
   "source": [
    "import os\n",
    "import spacy\n",
    "import pandas as pd\n",
    "import GUI"
   ]
  },
  {
   "cell_type": "markdown",
   "metadata": {},
   "source": [
    "### Run GUI"
   ]
  },
  {
   "cell_type": "code",
   "execution_count": 2,
   "metadata": {},
   "outputs": [
    {
     "ename": "OSError",
     "evalue": "[E050] Can't find model 'None'. It doesn't seem to be a Python package or a valid path to a data directory.",
     "output_type": "error",
     "traceback": [
      "\u001b[1;31m---------------------------------------------------------------------------\u001b[0m",
      "\u001b[1;31mOSError\u001b[0m                                   Traceback (most recent call last)",
      "\u001b[1;32mc:\\Users\\fenn\\Downloads\\CAMapp old\\CAMtools_CAMapp-main\\Python_word2vec\\word2vecGUI.ipynb Cell 3\u001b[0m in \u001b[0;36m<module>\u001b[1;34m\u001b[0m\n\u001b[0;32m      <a href='vscode-notebook-cell:/c%3A/Users/fenn/Downloads/CAMapp%20old/CAMtools_CAMapp-main/Python_word2vec/word2vecGUI.ipynb#W0sZmlsZQ%3D%3D?line=0'>1</a>\u001b[0m \u001b[39m### Config Variables\u001b[39;00m\n\u001b[0;32m      <a href='vscode-notebook-cell:/c%3A/Users/fenn/Downloads/CAMapp%20old/CAMtools_CAMapp-main/Python_word2vec/word2vecGUI.ipynb#W0sZmlsZQ%3D%3D?line=1'>2</a>\u001b[0m \u001b[39m## path of the language model\u001b[39;00m\n\u001b[1;32m----> <a href='vscode-notebook-cell:/c%3A/Users/fenn/Downloads/CAMapp%20old/CAMtools_CAMapp-main/Python_word2vec/word2vecGUI.ipynb#W0sZmlsZQ%3D%3D?line=2'>3</a>\u001b[0m nlp \u001b[39m=\u001b[39m spacy\u001b[39m.\u001b[39;49mload(GUI\u001b[39m.\u001b[39;49mChooseModel())  \u001b[39m#\"D:\\\\Coding\\\\CAM\\\\Word2Vec\\\\Models\\\\\"\u001b[39;00m\n\u001b[0;32m      <a href='vscode-notebook-cell:/c%3A/Users/fenn/Downloads/CAMapp%20old/CAMtools_CAMapp-main/Python_word2vec/word2vecGUI.ipynb#W0sZmlsZQ%3D%3D?line=3'>4</a>\u001b[0m \u001b[39m#nlp = spacy.load('en_core_web_lg')\u001b[39;00m\n\u001b[0;32m      <a href='vscode-notebook-cell:/c%3A/Users/fenn/Downloads/CAMapp%20old/CAMtools_CAMapp-main/Python_word2vec/word2vecGUI.ipynb#W0sZmlsZQ%3D%3D?line=4'>5</a>\u001b[0m LOADFILE \u001b[39m=\u001b[39m GUI\u001b[39m.\u001b[39mdefinePath(\u001b[39m\"\u001b[39m\u001b[39mloading\u001b[39m\u001b[39m\"\u001b[39m) \u001b[39m#\"path where you have stored the file downloaded from the CAM-app\\\\filename.txt\"  # e.g.\"C:\\\\CAMs\\\\analysis\\\\summarizedWords.txt\"\u001b[39;00m\n",
      "File \u001b[1;32m~\\AppData\\Roaming\\Python\\Python39\\site-packages\\spacy\\__init__.py:51\u001b[0m, in \u001b[0;36mload\u001b[1;34m(name, vocab, disable, exclude, config)\u001b[0m\n\u001b[0;32m     30\u001b[0m \u001b[39mdef\u001b[39;00m \u001b[39mload\u001b[39m(\n\u001b[0;32m     31\u001b[0m     name: Union[\u001b[39mstr\u001b[39m, Path],\n\u001b[0;32m     32\u001b[0m     \u001b[39m*\u001b[39m,\n\u001b[1;32m   (...)\u001b[0m\n\u001b[0;32m     36\u001b[0m     config: Union[Dict[\u001b[39mstr\u001b[39m, Any], Config] \u001b[39m=\u001b[39m util\u001b[39m.\u001b[39mSimpleFrozenDict(),\n\u001b[0;32m     37\u001b[0m ) \u001b[39m-\u001b[39m\u001b[39m>\u001b[39m Language:\n\u001b[0;32m     38\u001b[0m     \u001b[39m\"\"\"Load a spaCy model from an installed package or a local path.\u001b[39;00m\n\u001b[0;32m     39\u001b[0m \n\u001b[0;32m     40\u001b[0m \u001b[39m    name (str): Package name or model path.\u001b[39;00m\n\u001b[1;32m   (...)\u001b[0m\n\u001b[0;32m     49\u001b[0m \u001b[39m    RETURNS (Language): The loaded nlp object.\u001b[39;00m\n\u001b[0;32m     50\u001b[0m \u001b[39m    \"\"\"\u001b[39;00m\n\u001b[1;32m---> 51\u001b[0m     \u001b[39mreturn\u001b[39;00m util\u001b[39m.\u001b[39;49mload_model(\n\u001b[0;32m     52\u001b[0m         name, vocab\u001b[39m=\u001b[39;49mvocab, disable\u001b[39m=\u001b[39;49mdisable, exclude\u001b[39m=\u001b[39;49mexclude, config\u001b[39m=\u001b[39;49mconfig\n\u001b[0;32m     53\u001b[0m     )\n",
      "File \u001b[1;32m~\\AppData\\Roaming\\Python\\Python39\\site-packages\\spacy\\util.py:427\u001b[0m, in \u001b[0;36mload_model\u001b[1;34m(name, vocab, disable, exclude, config)\u001b[0m\n\u001b[0;32m    425\u001b[0m \u001b[39mif\u001b[39;00m name \u001b[39min\u001b[39;00m OLD_MODEL_SHORTCUTS:\n\u001b[0;32m    426\u001b[0m     \u001b[39mraise\u001b[39;00m \u001b[39mIOError\u001b[39;00m(Errors\u001b[39m.\u001b[39mE941\u001b[39m.\u001b[39mformat(name\u001b[39m=\u001b[39mname, full\u001b[39m=\u001b[39mOLD_MODEL_SHORTCUTS[name]))  \u001b[39m# type: ignore[index]\u001b[39;00m\n\u001b[1;32m--> 427\u001b[0m \u001b[39mraise\u001b[39;00m \u001b[39mIOError\u001b[39;00m(Errors\u001b[39m.\u001b[39mE050\u001b[39m.\u001b[39mformat(name\u001b[39m=\u001b[39mname))\n",
      "\u001b[1;31mOSError\u001b[0m: [E050] Can't find model 'None'. It doesn't seem to be a Python package or a valid path to a data directory."
     ]
    }
   ],
   "source": [
    "### Config Variables\n",
    "## path of the language model\n",
    "nlp = spacy.load(GUI.ChooseModel())  #\"D:\\\\Coding\\\\CAM\\\\Word2Vec\\\\Models\\\\\"\n",
    "#nlp = spacy.load('en_core_web_lg')\n",
    "LOADFILE = GUI.definePath(\"loading\") #\"path where you have stored the file downloaded from the CAM-app\\\\filename.txt\"  # e.g.\"C:\\\\CAMs\\\\analysis\\\\summarizedWords.txt\"\n",
    "SAVEFILE = GUI.definePath(\"saving\") #\"path where the output of this script should be saved\\\\filename for output.txt\"  # e.g.\"C:\\\\CAMs\\\\analysis\\\\distanceMatrix.txt\". ATTENTION: EXISTING FILES of the same name and location are OVERWRITTEN (if not specified otherwise below!\n",
    "\n",
    "\n",
    "### Data preparation\n",
    "rawData = pd.read_csv(LOADFILE, delimiter=\"\\t\").iloc[:, 0].str.cat(others=None, sep=\" \", na_rep=None, join='left') # reads in the file specified by LOADFILE, converting it to a single string of words separated by a blankspace\n",
    "tokens = nlp(rawData)\n",
    "\n",
    "##cleans up data olny for concepts in the model\n",
    "# Defined as a function to be used on multiple datasets if necessary \n",
    "def cleanData(data):\n",
    "    cleanTokens = []\n",
    "    for token in tokens:\n",
    "        if not token.is_oov:\n",
    "            cleanTokens.append(token) \n",
    "    return cleanTokens\n",
    "\n",
    "### determining string distances\n",
    "## Creates a matrix of word similarities\n",
    "def calcDistanceMatrix(cleanTokens):\n",
    "    df = pd.DataFrame(columns=cleanTokens, index = cleanTokens) # builds al empty pandas dataframe with rows and columns named after the words to be analyzed\n",
    "    for token in cleanTokens:\n",
    "        similiarities = []\n",
    "        for token2 in cleanTokens:\n",
    "            similiarities.append(token.similarity(token2))\n",
    "        df[token] = similiarities\n",
    "    return df\n",
    "\n",
    "### Exporting a .txt file to/with the location specified by the SAVEFILE variable\n",
    "#export DataFrame to text file\n",
    "def saveFile(distanceMatrix): \n",
    "    with open(SAVEFILE, 'w', encoding=\"utf-8\") as f:  # overwrites existing files of the same name and path. If you want to change that: change line to with open(SAVEFILE, 'x') as f:\n",
    "        distMatString = distanceMatrixDF.to_string(header=True, index=True)\n",
    "        f.write(distMatString)\n",
    "\n",
    "### Calling the functions defined above for cleaning data, calculating a distance matrix and saving it to a file \n",
    "cleanTokens = cleanData(tokens)  \n",
    "distanceMatrixDF = calcDistanceMatrix(cleanTokens)\n",
    "saveFile(distanceMatrixDF)\n",
    "\n",
    "#### Printing the distance matrix (for testing/debug only)\n",
    "#print(distanceMatrixDF)"
   ]
  }
 ],
 "metadata": {
  "kernelspec": {
   "display_name": "Python 3",
   "language": "python",
   "name": "python3"
  },
  "language_info": {
   "codemirror_mode": {
    "name": "ipython",
    "version": 3
   },
   "file_extension": ".py",
   "mimetype": "text/x-python",
   "name": "python",
   "nbconvert_exporter": "python",
   "pygments_lexer": "ipython3",
   "version": "3.9.5"
  },
  "orig_nbformat": 4,
  "vscode": {
   "interpreter": {
    "hash": "81794d4967e6c3204c66dcd87b604927b115b27c00565d3d43f05ba2f3a2cb0d"
   }
  }
 },
 "nbformat": 4,
 "nbformat_minor": 2
}
