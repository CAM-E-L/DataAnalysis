{
 "cells": [
  {
   "cell_type": "code",
   "execution_count": null,
   "metadata": {},
   "outputs": [],
   "source": [
    "import os\n",
    "import spacy\n",
    "import pandas as pd\n",
    "import GUI"
   ]
  },
  {
   "cell_type": "markdown",
   "metadata": {},
   "source": [
    "### Run GUI"
   ]
  },
  {
   "cell_type": "code",
   "execution_count": null,
   "metadata": {},
   "outputs": [],
   "source": [
    "### Config Variables\n",
    "## path of the language model\n",
    "nlp = spacy.load(GUI.ChooseModel())  #\"D:\\\\Coding\\\\CAM\\\\Word2Vec\\\\Models\\\\\"\n",
    "#nlp = spacy.load('en_core_web_lg')\n",
    "LOADFILE = GUI.definePath(\"loading\") #\"path where you have stored the file downloaded from the CAM-app\\\\filename.txt\"  # e.g.\"C:\\\\CAMs\\\\analysis\\\\summarizedWords.txt\"\n",
    "SAVEFILE = GUI.definePath(\"saving\") #\"path where the output of this script should be saved\\\\filename for output.txt\"  # e.g.\"C:\\\\CAMs\\\\analysis\\\\distanceMatrix.txt\". ATTENTION: EXISTING FILES of the same name and location are OVERWRITTEN (if not specified otherwise below!\n",
    "\n",
    "\n",
    "### Data preparation\n",
    "rawData = pd.read_csv(LOADFILE, delimiter=\"\\t\").iloc[:, 0].str.cat(others=None, sep=\" \", na_rep=None, join='left') # reads in the file specified by LOADFILE, converting it to a single string of words separated by a blankspace\n",
    "tokens = nlp(rawData)\n",
    "\n",
    "##cleans up data olny for concepts in the model\n",
    "# Defined as a function to be used on multiple datasets if necessary \n",
    "def cleanData(data):\n",
    "    cleanTokens = []\n",
    "    for token in tokens:\n",
    "        if not token.is_oov:\n",
    "            cleanTokens.append(token) \n",
    "    return cleanTokens\n",
    "\n",
    "### determining string distances\n",
    "## Creates a matrix of word similarities\n",
    "def calcDistanceMatrix(cleanTokens):\n",
    "    df = pd.DataFrame(columns=cleanTokens, index = cleanTokens) # builds al empty pandas dataframe with rows and columns named after the words to be analyzed\n",
    "    for token in cleanTokens:\n",
    "        similiarities = []\n",
    "        for token2 in cleanTokens:\n",
    "            similiarities.append(token.similarity(token2))\n",
    "        df[token] = similiarities\n",
    "    return df\n",
    "\n",
    "### Exporting a .txt file to/with the location specified by the SAVEFILE variable\n",
    "#export DataFrame to text file\n",
    "def saveFile(distanceMatrix): \n",
    "    with open(SAVEFILE, 'w', encoding=\"utf-8\") as f:  # overwrites existing files of the same name and path. If you want to change that: change line to with open(SAVEFILE, 'x') as f:\n",
    "        distMatString = distanceMatrixDF.to_string(header=True, index=True)\n",
    "        f.write(distMatString)\n",
    "\n",
    "### Calling the functions defined above for cleaning data, calculating a distance matrix and saving it to a file \n",
    "cleanTokens = cleanData(tokens)  \n",
    "distanceMatrixDF = calcDistanceMatrix(cleanTokens)\n",
    "saveFile(distanceMatrixDF)\n",
    "\n",
    "#### Printing the distance matrix (for testing/debug only)\n",
    "#print(distanceMatrixDF)"
   ]
  }
 ],
 "metadata": {
  "kernelspec": {
   "display_name": "Python 3",
   "language": "python",
   "name": "python3"
  },
  "language_info": {
   "codemirror_mode": {
    "name": "ipython",
    "version": 3
   },
   "file_extension": ".py",
   "mimetype": "text/x-python",
   "name": "python",
   "nbconvert_exporter": "python",
   "pygments_lexer": "ipython3",
   "version": "3.9.5"
  },
  "orig_nbformat": 4,
  "vscode": {
   "interpreter": {
    "hash": "81794d4967e6c3204c66dcd87b604927b115b27c00565d3d43f05ba2f3a2cb0d"
   }
  }
 },
 "nbformat": 4,
 "nbformat_minor": 2
}
