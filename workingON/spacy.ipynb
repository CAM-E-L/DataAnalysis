{
 "cells": [
  {
   "cell_type": "code",
   "execution_count": 26,
   "metadata": {},
   "outputs": [],
   "source": [
    "import spacy"
   ]
  },
  {
   "cell_type": "code",
   "execution_count": 27,
   "metadata": {},
   "outputs": [
    {
     "name": "stdout",
     "output_type": "stream",
     "text": [
      "dog True 7.0336733 False\n",
      "cat True 6.6808186 False\n",
      "banana True 6.700014 False\n",
      "afsk213321fsd False 0.0 True\n",
      "help True 5.87878 False\n"
     ]
    }
   ],
   "source": [
    "nlp = spacy.load(\"en_core_web_md\") # pacy.load('en_core_web_sm')\n",
    "tokens = nlp(\"dog cat banana afsk213321fsd help\")\n",
    "\n",
    "for token in tokens:\n",
    "    print(token.text, token.has_vector, token.vector_norm, token.is_oov)\n"
   ]
  },
  {
   "cell_type": "code",
   "execution_count": 28,
   "metadata": {},
   "outputs": [
    {
     "name": "stdout",
     "output_type": "stream",
     "text": [
      "I like salty fries and hamburgers. <-> Fast food tastes very good. 0.7799485853415737\n",
      "salty fries <-> hamburgers 0.730462372303009\n"
     ]
    }
   ],
   "source": [
    "doc1 = nlp(\"I like salty fries and hamburgers.\")\n",
    "doc2 = nlp(\"Fast food tastes very good.\")\n",
    "\n",
    "# Similarity of two documents\n",
    "print(doc1, \"<->\", doc2, doc1.similarity(doc2))\n",
    "# Similarity of tokens and spans\n",
    "french_fries = doc1[2:4]\n",
    "burgers = doc1[5]\n",
    "print(french_fries, \"<->\", burgers, french_fries.similarity(burgers))\n"
   ]
  },
  {
   "cell_type": "code",
   "execution_count": 84,
   "metadata": {},
   "outputs": [
    {
     "name": "stdout",
     "output_type": "stream",
     "text": [
      "Enter two space-separated words\n",
      "China True 6.7980704 False\n",
      "Russia True 6.9937716 False\n",
      "Germany True 7.046142 False\n",
      "Tibet True 6.937505 False\n",
      "Ukraine True 7.1372385 False\n",
      "Belarus True 7.1372385 False\n",
      "EconomyS False 0.0 True\n",
      "Similarity: 0.5375175476074219\n",
      "tokens China Russia Germany Tibet Ukraine Belarus EconomyS\n"
     ]
    },
    {
     "data": {
      "text/plain": [
       "6.9937716"
      ]
     },
     "execution_count": 84,
     "metadata": {},
     "output_type": "execute_result"
    }
   ],
   "source": [
    "nlp = spacy.load('en_core_web_md')\n",
    "  \n",
    "print(\"Enter two space-separated words\")\n",
    "words = \"China Russia Germany Tibet Ukraine Belarus EconomyS\" # input()\n",
    "  \n",
    "tokens = nlp(words)\n",
    "  \n",
    "for token in tokens:\n",
    "    # Printing the following attributes of each token.\n",
    "    # text: the word string, has_vector: if it contains\n",
    "    # a vector representation in the model, \n",
    "    # vector_norm: the algebraic norm of the vector,\n",
    "    # is_oov: if the word is out of vocabulary.\n",
    "    print(token.text, token.has_vector, token.vector_norm, token.is_oov)\n",
    "  \n",
    "token1, token2 = tokens[0], tokens[1]\n",
    "print(\"Similarity:\", token1.similarity(token2))\n",
    "# print(\"vector:\", token2.vector)\n",
    "print(\"tokens\", tokens)\n",
    "\n",
    "\n",
    "token2.vector_norm"
   ]
  },
  {
   "cell_type": "code",
   "execution_count": 70,
   "metadata": {},
   "outputs": [
    {
     "name": "stdout",
     "output_type": "stream",
     "text": [
      "Similarity between Love <-> Joy : 0.6281557083129883\n",
      "Similarity between Happiness <-> Joy : 0.7758305072784424\n",
      "Similarity between Joy <-> Love : 0.6281557083129883\n",
      "Similarity between Joy <-> Happiness : 0.7758305072784424\n"
     ]
    },
    {
     "name": "stderr",
     "output_type": "stream",
     "text": [
      "C:\\Users\\fenn\\AppData\\Local\\Temp\\ipykernel_18884\\3176529972.py:11: UserWarning: [W008] Evaluating Token.similarity based on empty vectors.\n",
      "  if token.similarity(tokens[i]) > .6 and token.similarity(tokens[i]) != 1:\n"
     ]
    }
   ],
   "source": [
    "nlp = spacy.load('en_core_web_md') # en_core_web_lg\n",
    "words = \"Love Happiness War Russia China Joy\" # input()\n",
    "\n",
    "tokens = nlp(words)\n",
    "\n",
    "# use of range() to define a range of values\n",
    "values = range(len(tokens))\n",
    "\n",
    "for token in tokens:\n",
    "    for i in values:\n",
    "        if token.similarity(tokens[i]) > .6 and token.similarity(tokens[i]) != 1:\n",
    "            print(\"Similarity between\", token, \"<->\", tokens[i], \":\", token.similarity(tokens[i]))\n"
   ]
  },
  {
   "cell_type": "code",
   "execution_count": 64,
   "metadata": {},
   "outputs": [
    {
     "name": "stdout",
     "output_type": "stream",
     "text": [
      "Similarity between Krebs <-> Angst : 0.360155314207077\n",
      "Similarity between Krebs <-> Pandemie : 0.4700985550880432\n",
      "Similarity between Krebs <-> Job : 0.1255747675895691\n",
      "Similarity between Angst <-> Krebs : 0.360155314207077\n",
      "Similarity between Angst <-> Pandemie : 0.3251305818557739\n",
      "Similarity between Angst <-> Job : 0.16999255120754242\n",
      "Similarity between Pandemie <-> Krebs : 0.4700985550880432\n",
      "Similarity between Pandemie <-> Angst : 0.3251305818557739\n",
      "Similarity between Pandemie <-> Job : 0.10394466668367386\n",
      "Similarity between Job <-> Krebs : 0.1255747675895691\n",
      "Similarity between Job <-> Angst : 0.16999255120754242\n",
      "Similarity between Job <-> Pandemie : 0.10394466668367386\n"
     ]
    },
    {
     "name": "stderr",
     "output_type": "stream",
     "text": [
      "C:\\Users\\fenn\\AppData\\Local\\Temp\\ipykernel_18884\\658885601.py:10: UserWarning: [W008] Evaluating Token.similarity based on empty vectors.\n",
      "  if token.similarity(tokens[i]) > .10 and token.similarity(tokens[i]) != 1:\n"
     ]
    }
   ],
   "source": [
    "nlp = spacy.load('de_core_news_md')\n",
    "words = \"Krebs Covid Covid-19 Angst Pandemie Job\"\n",
    "tokens = nlp(words)\n",
    "\n",
    "# use of range() to define a range of values\n",
    "values = range(len(tokens))\n",
    "\n",
    "for token in tokens:\n",
    "    for i in values:\n",
    "        if token.similarity(tokens[i]) > .10 and token.similarity(tokens[i]) != 1:\n",
    "            print(\"Similarity between\", token, \"<->\", tokens[i], \":\", token.similarity(tokens[i]))"
   ]
  },
  {
   "cell_type": "code",
   "execution_count": 68,
   "metadata": {},
   "outputs": [
    {
     "data": {
      "text/plain": [
       "{'spacy_version': '3.2.4',\n",
       " 'location': 'C:\\\\Users\\\\fenn\\\\AppData\\\\Roaming\\\\Python\\\\Python39\\\\site-packages\\\\spacy',\n",
       " 'platform': 'Windows-10-10.0.19045-SP0',\n",
       " 'python_version': '3.9.5',\n",
       " 'pipelines': {'en_core_web_sm': '3.2.0'}}"
      ]
     },
     "execution_count": 68,
     "metadata": {},
     "output_type": "execute_result"
    }
   ],
   "source": [
    "spacy.info()"
   ]
  },
  {
   "cell_type": "code",
   "execution_count": 76,
   "metadata": {},
   "outputs": [
    {
     "name": "stdout",
     "output_type": "stream",
     "text": [
      "I like salty fries and hamburgers. <-> Fast food tastes very good. 0.7799485853415737\n"
     ]
    }
   ],
   "source": [
    "\n",
    "nlp = spacy.load(\"en_core_web_md\")  # make sure to use larger package!\n",
    "doc1 = nlp(\"I like salty fries and hamburgers.\")\n",
    "doc2 = nlp(\"Fast food tastes very good.\")\n",
    "\n",
    "# Similarity of two documents\n",
    "print(doc1, \"<->\", doc2, doc1.similarity(doc2))"
   ]
  }
 ],
 "metadata": {
  "kernelspec": {
   "display_name": "Python 3",
   "language": "python",
   "name": "python3"
  },
  "language_info": {
   "codemirror_mode": {
    "name": "ipython",
    "version": 3
   },
   "file_extension": ".py",
   "mimetype": "text/x-python",
   "name": "python",
   "nbconvert_exporter": "python",
   "pygments_lexer": "ipython3",
   "version": "3.9.5"
  },
  "vscode": {
   "interpreter": {
    "hash": "81794d4967e6c3204c66dcd87b604927b115b27c00565d3d43f05ba2f3a2cb0d"
   }
  }
 },
 "nbformat": 4,
 "nbformat_minor": 4
}
