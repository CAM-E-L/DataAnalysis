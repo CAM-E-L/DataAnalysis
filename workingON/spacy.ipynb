{
 "cells": [
  {
   "cell_type": "code",
   "execution_count": 3,
   "metadata": {},
   "outputs": [],
   "source": [
    "import spacy"
   ]
  },
  {
   "cell_type": "code",
   "execution_count": 27,
   "metadata": {},
   "outputs": [
    {
     "name": "stdout",
     "output_type": "stream",
     "text": [
      "dog True 7.0336733 False\n",
      "cat True 6.6808186 False\n",
      "banana True 6.700014 False\n",
      "afsk213321fsd False 0.0 True\n",
      "help True 5.87878 False\n"
     ]
    }
   ],
   "source": [
    "nlp = spacy.load(\"en_core_web_md\") # pacy.load('en_core_web_sm')\n",
    "tokens = nlp(\"dog cat banana afsk213321fsd help\")\n",
    "\n",
    "for token in tokens:\n",
    "    print(token.text, token.has_vector, token.vector_norm, token.is_oov)\n"
   ]
  },
  {
   "cell_type": "code",
   "execution_count": 28,
   "metadata": {},
   "outputs": [
    {
     "name": "stdout",
     "output_type": "stream",
     "text": [
      "I like salty fries and hamburgers. <-> Fast food tastes very good. 0.7799485853415737\n",
      "salty fries <-> hamburgers 0.730462372303009\n"
     ]
    }
   ],
   "source": [
    "doc1 = nlp(\"I like salty fries and hamburgers.\")\n",
    "doc2 = nlp(\"Fast food tastes very good.\")\n",
    "\n",
    "# Similarity of two documents\n",
    "print(doc1, \"<->\", doc2, doc1.similarity(doc2))\n",
    "# Similarity of tokens and spans\n",
    "french_fries = doc1[2:4]\n",
    "burgers = doc1[5]\n",
    "print(french_fries, \"<->\", burgers, french_fries.similarity(burgers))\n"
   ]
  },
  {
   "cell_type": "code",
   "execution_count": 6,
   "metadata": {},
   "outputs": [
    {
     "name": "stdout",
     "output_type": "stream",
     "text": [
      "Enter two space-separated words\n",
      "dsffds False 0.0 True\n",
      "China True 6.7980704 False\n",
      "Russia True 6.9937716 False\n",
      "Germany True 7.046142 False\n",
      "Tibet True 6.937505 False\n",
      "Ukraine True 7.1372385 False\n",
      "Belarus True 7.1372385 False\n",
      "EconomyS False 0.0 True\n",
      "Similarity: 0.0\n",
      "tokens dsffds China Russia Germany Tibet Ukraine Belarus EconomyS\n"
     ]
    },
    {
     "name": "stderr",
     "output_type": "stream",
     "text": [
      "C:\\Users\\fenn\\AppData\\Local\\Temp\\ipykernel_18540\\34371951.py:17: UserWarning: [W008] Evaluating Token.similarity based on empty vectors.\n",
      "  print(\"Similarity:\", token1.similarity(token2))\n"
     ]
    },
    {
     "data": {
      "text/plain": [
       "6.7980704"
      ]
     },
     "execution_count": 6,
     "metadata": {},
     "output_type": "execute_result"
    }
   ],
   "source": [
    "nlp = spacy.load('en_core_web_md')\n",
    "  \n",
    "print(\"Enter two space-separated words\")\n",
    "words = \"dsffds China Russia Germany Tibet Ukraine Belarus EconomyS\" # input()\n",
    "  \n",
    "tokens = nlp(words)\n",
    "  \n",
    "for token in tokens:\n",
    "    # Printing the following attributes of each token.\n",
    "    # text: the word string, has_vector: if it contains\n",
    "    # a vector representation in the model, \n",
    "    # vector_norm: the algebraic norm of the vector,\n",
    "    # is_oov: if the word is out of vocabulary.\n",
    "    print(token.text, token.has_vector, token.vector_norm, token.is_oov)\n",
    "  \n",
    "token1, token2 = tokens[0], tokens[1]\n",
    "print(\"Similarity:\", token1.similarity(token2))\n",
    "# print(\"vector:\", token2.vector)\n",
    "print(\"tokens\", tokens)\n",
    "\n",
    "\n",
    "token2.vector_norm"
   ]
  },
  {
   "cell_type": "code",
   "execution_count": 18,
   "metadata": {},
   "outputs": [
    {
     "ename": "FileNotFoundError",
     "evalue": "[WinError 2] Das System kann die angegebene Datei nicht finden: '--ip=127.0.0.1'",
     "output_type": "error",
     "traceback": [
      "\u001b[1;31m---------------------------------------------------------------------------\u001b[0m",
      "\u001b[1;31mFileNotFoundError\u001b[0m                         Traceback (most recent call last)",
      "\u001b[1;32mc:\\DATEN\\PHD\\CAMtools_CAMapp\\workingON\\spacy.ipynb Cell 5\u001b[0m in \u001b[0;36m<module>\u001b[1;34m\u001b[0m\n\u001b[0;32m      <a href='vscode-notebook-cell:/c%3A/DATEN/PHD/CAMtools_CAMapp/workingON/spacy.ipynb#X11sZmlsZQ%3D%3D?line=2'>3</a>\u001b[0m working\u001b[39m=\u001b[39m os\u001b[39m.\u001b[39menviron\u001b[39m.\u001b[39mget(\u001b[39m\"\u001b[39m\u001b[39mWORKING_DIRECTORY\u001b[39m\u001b[39m\"\u001b[39m,\u001b[39m\"\u001b[39m\u001b[39m/some/default\u001b[39m\u001b[39m\"\u001b[39m)\n\u001b[0;32m      <a href='vscode-notebook-cell:/c%3A/DATEN/PHD/CAMtools_CAMapp/workingON/spacy.ipynb#X11sZmlsZQ%3D%3D?line=3'>4</a>\u001b[0m \u001b[39mif\u001b[39;00m \u001b[39mlen\u001b[39m(sys\u001b[39m.\u001b[39margv) \u001b[39m>\u001b[39m \u001b[39m1\u001b[39m: working \u001b[39m=\u001b[39m sys\u001b[39m.\u001b[39margv[\u001b[39m1\u001b[39m]\n\u001b[1;32m----> <a href='vscode-notebook-cell:/c%3A/DATEN/PHD/CAMtools_CAMapp/workingON/spacy.ipynb#X11sZmlsZQ%3D%3D?line=4'>5</a>\u001b[0m os\u001b[39m.\u001b[39;49mchdir( working )\n",
      "\u001b[1;31mFileNotFoundError\u001b[0m: [WinError 2] Das System kann die angegebene Datei nicht finden: '--ip=127.0.0.1'"
     ]
    }
   ],
   "source": []
  },
  {
   "cell_type": "code",
   "execution_count": 4,
   "metadata": {},
   "outputs": [
    {
     "name": "stdout",
     "output_type": "stream",
     "text": [
      "Similarity between Love <-> Joy : 0.6281557083129883\n",
      "Similarity between Happiness <-> Joy : 0.7758305072784424\n",
      "Similarity between Joy <-> Love : 0.6281557083129883\n",
      "Similarity between Joy <-> Happiness : 0.7758305072784424\n"
     ]
    }
   ],
   "source": [
    "nlp = spacy.load('en_core_web_lg') # en_core_web_lg\n",
    "words = \"Love Happiness War Russia China Joy\" # input()\n",
    "\n",
    "tokens = nlp(words)\n",
    "# use of range() to define a range of values\n",
    "values = range(len(tokens))\n",
    "\n",
    "for token in tokens:\n",
    "    for i in values:\n",
    "        if token.similarity(tokens[i]) > .6 and token.similarity(tokens[i]) != 1:\n",
    "            print(\"Similarity between\", token, \"<->\", tokens[i], \":\", token.similarity(tokens[i]))\n"
   ]
  },
  {
   "cell_type": "code",
   "execution_count": 3,
   "metadata": {},
   "outputs": [
    {
     "name": "stdout",
     "output_type": "stream",
     "text": [
      "Similarity between Krebs <-> Angst : 0.360155314207077\n",
      "Similarity between Krebs <-> Pandemie : 0.4700985550880432\n",
      "Similarity between Krebs <-> Job : 0.1255747675895691\n",
      "Similarity between Angst <-> Krebs : 0.360155314207077\n",
      "Similarity between Angst <-> Pandemie : 0.3251305818557739\n",
      "Similarity between Angst <-> Job : 0.16999255120754242\n",
      "Similarity between Pandemie <-> Krebs : 0.4700985550880432\n",
      "Similarity between Pandemie <-> Angst : 0.3251305818557739\n",
      "Similarity between Pandemie <-> Job : 0.10394466668367386\n",
      "Similarity between Job <-> Krebs : 0.1255747675895691\n",
      "Similarity between Job <-> Angst : 0.16999255120754242\n",
      "Similarity between Job <-> Pandemie : 0.10394466668367386\n"
     ]
    },
    {
     "name": "stderr",
     "output_type": "stream",
     "text": [
      "C:\\Users\\fenn\\AppData\\Local\\Temp\\ipykernel_18540\\658885601.py:10: UserWarning: [W008] Evaluating Token.similarity based on empty vectors.\n",
      "  if token.similarity(tokens[i]) > .10 and token.similarity(tokens[i]) != 1:\n"
     ]
    }
   ],
   "source": [
    "nlp = spacy.load('de_core_news_md')\n",
    "words = \"Krebs Covid Covid-19 Angst Pandemie Job\"\n",
    "tokens = nlp(words)\n",
    "\n",
    "# use of range() to define a range of values\n",
    "values = range(len(tokens))\n",
    "\n",
    "for token in tokens:\n",
    "    for i in values:\n",
    "        if token.similarity(tokens[i]) > .10 and token.similarity(tokens[i]) != 1:\n",
    "            print(\"Similarity between\", token, \"<->\", tokens[i], \":\", token.similarity(tokens[i]))"
   ]
  },
  {
   "cell_type": "code",
   "execution_count": 68,
   "metadata": {},
   "outputs": [
    {
     "data": {
      "text/plain": [
       "{'spacy_version': '3.2.4',\n",
       " 'location': 'C:\\\\Users\\\\fenn\\\\AppData\\\\Roaming\\\\Python\\\\Python39\\\\site-packages\\\\spacy',\n",
       " 'platform': 'Windows-10-10.0.19045-SP0',\n",
       " 'python_version': '3.9.5',\n",
       " 'pipelines': {'en_core_web_sm': '3.2.0'}}"
      ]
     },
     "execution_count": 68,
     "metadata": {},
     "output_type": "execute_result"
    }
   ],
   "source": [
    "spacy.info()"
   ]
  },
  {
   "cell_type": "code",
   "execution_count": 76,
   "metadata": {},
   "outputs": [
    {
     "name": "stdout",
     "output_type": "stream",
     "text": [
      "I like salty fries and hamburgers. <-> Fast food tastes very good. 0.7799485853415737\n"
     ]
    }
   ],
   "source": [
    "\n",
    "nlp = spacy.load(\"en_core_web_md\")  # make sure to use larger package!\n",
    "doc1 = nlp(\"I like salty fries and hamburgers.\")\n",
    "doc2 = nlp(\"Fast food tastes very good.\")\n",
    "\n",
    "# Similarity of two documents\n",
    "print(doc1, \"<->\", doc2, doc1.similarity(doc2))"
   ]
  },
  {
   "cell_type": "code",
   "execution_count": 21,
   "metadata": {},
   "outputs": [
    {
     "name": "stdout",
     "output_type": "stream",
     "text": [
      "    product  price\n",
      "0  computer    850\n",
      "1    tablet    200\n",
      "2   printer    150\n",
      "3    laptop   1300\n"
     ]
    }
   ],
   "source": [
    "import pandas as pd\n",
    "\n",
    "data = {'product': ['computer', 'tablet', 'printer', 'laptop'],\n",
    "        'price': [850, 200, 150, 1300]\n",
    "        }\n",
    "\n",
    "df = pd.DataFrame(data)\n",
    "\n",
    "df.to_csv(r'C:\\DATEN\\PHD\\CAMtools_CAMapp\\workingON\\export_dataframe.csv', index=False, header=True)\n",
    "\n",
    "print(df)"
   ]
  }
 ],
 "metadata": {
  "kernelspec": {
   "display_name": "Python 3",
   "language": "python",
   "name": "python3"
  },
  "language_info": {
   "codemirror_mode": {
    "name": "ipython",
    "version": 3
   },
   "file_extension": ".py",
   "mimetype": "text/x-python",
   "name": "python",
   "nbconvert_exporter": "python",
   "pygments_lexer": "ipython3",
   "version": "3.9.5"
  },
  "vscode": {
   "interpreter": {
    "hash": "81794d4967e6c3204c66dcd87b604927b115b27c00565d3d43f05ba2f3a2cb0d"
   }
  }
 },
 "nbformat": 4,
 "nbformat_minor": 4
}
