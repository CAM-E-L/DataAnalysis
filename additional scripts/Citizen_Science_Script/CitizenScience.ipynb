{
 "cells": [
  {
   "cell_type": "markdown",
   "metadata": {},
   "source": [
    "# Import statements"
   ]
  },
  {
   "cell_type": "code",
   "execution_count": 12,
   "metadata": {},
   "outputs": [
    {
     "ename": "ModuleNotFoundError",
     "evalue": "No module named 'cairosvg'",
     "output_type": "error",
     "traceback": [
      "\u001b[1;31m---------------------------------------------------------------------------\u001b[0m",
      "\u001b[1;31mModuleNotFoundError\u001b[0m                       Traceback (most recent call last)",
      "\u001b[1;32mc:\\Users\\fenn\\Nextcloud\\Artikel Cognitive Affective Maps Tools\\CAM tools\\CAMtools_CAMapp\\additional scripts\\Citizen_Science_Script\\CitizenScience.ipynb Cell 2\u001b[0m line \u001b[0;36m<module>\u001b[1;34m\u001b[0m\n\u001b[0;32m      <a href='vscode-notebook-cell:/c%3A/Users/fenn/Nextcloud/Artikel%20Cognitive%20Affective%20Maps%20Tools/CAM%20tools/CAMtools_CAMapp/additional%20scripts/Citizen_Science_Script/CitizenScience.ipynb#W1sZmlsZQ%3D%3D?line=0'>1</a>\u001b[0m \u001b[39mimport\u001b[39;00m \u001b[39msys\u001b[39;00m\n\u001b[0;32m      <a href='vscode-notebook-cell:/c%3A/Users/fenn/Nextcloud/Artikel%20Cognitive%20Affective%20Maps%20Tools/CAM%20tools/CAMtools_CAMapp/additional%20scripts/Citizen_Science_Script/CitizenScience.ipynb#W1sZmlsZQ%3D%3D?line=1'>2</a>\u001b[0m \u001b[39m#from pathlib import Path\u001b[39;00m\n\u001b[1;32m----> <a href='vscode-notebook-cell:/c%3A/Users/fenn/Nextcloud/Artikel%20Cognitive%20Affective%20Maps%20Tools/CAM%20tools/CAMtools_CAMapp/additional%20scripts/Citizen_Science_Script/CitizenScience.ipynb#W1sZmlsZQ%3D%3D?line=2'>3</a>\u001b[0m \u001b[39mimport\u001b[39;00m \u001b[39mcreateImages\u001b[39;00m\n\u001b[0;32m      <a href='vscode-notebook-cell:/c%3A/Users/fenn/Nextcloud/Artikel%20Cognitive%20Affective%20Maps%20Tools/CAM%20tools/CAMtools_CAMapp/additional%20scripts/Citizen_Science_Script/CitizenScience.ipynb#W1sZmlsZQ%3D%3D?line=3'>4</a>\u001b[0m \u001b[39mimport\u001b[39;00m \u001b[39mcam2imageGUI\u001b[39;00m \u001b[39mas\u001b[39;00m \u001b[39mGUI\u001b[39;00m\n\u001b[0;32m      <a href='vscode-notebook-cell:/c%3A/Users/fenn/Nextcloud/Artikel%20Cognitive%20Affective%20Maps%20Tools/CAM%20tools/CAMtools_CAMapp/additional%20scripts/Citizen_Science_Script/CitizenScience.ipynb#W1sZmlsZQ%3D%3D?line=4'>5</a>\u001b[0m \u001b[39mimport\u001b[39;00m \u001b[39mfileHandling\u001b[39;00m\n",
      "File \u001b[1;32mc:\\Users\\fenn\\Nextcloud\\Artikel Cognitive Affective Maps Tools\\CAM tools\\CAMtools_CAMapp\\additional scripts\\Citizen_Science_Script\\createImages.py:8\u001b[0m, in \u001b[0;36m<module>\u001b[1;34m\u001b[0m\n\u001b[0;32m      6\u001b[0m \u001b[39mfrom\u001b[39;00m \u001b[39mselenium\u001b[39;00m\u001b[39m.\u001b[39;00m\u001b[39mwebdriver\u001b[39;00m\u001b[39m.\u001b[39;00m\u001b[39msupport\u001b[39;00m \u001b[39mimport\u001b[39;00m expected_conditions \u001b[39mas\u001b[39;00m EC\n\u001b[0;32m      7\u001b[0m \u001b[39mfrom\u001b[39;00m \u001b[39mselenium\u001b[39;00m\u001b[39m.\u001b[39;00m\u001b[39mwebdriver\u001b[39;00m\u001b[39m.\u001b[39;00m\u001b[39mfirefox\u001b[39;00m\u001b[39m.\u001b[39;00m\u001b[39moptions\u001b[39;00m \u001b[39mimport\u001b[39;00m Options\n\u001b[1;32m----> 8\u001b[0m \u001b[39mimport\u001b[39;00m \u001b[39mcairosvg\u001b[39;00m \n\u001b[0;32m      9\u001b[0m \u001b[39mfrom\u001b[39;00m \u001b[39mlxml\u001b[39;00m \u001b[39mimport\u001b[39;00m etree\n\u001b[0;32m     12\u001b[0m \u001b[39m### Opens Firefox, opens the local or web-adress (adress parameter) in the browser and sets the browsers download path (pathOut parameter)  \u001b[39;00m\n",
      "\u001b[1;31mModuleNotFoundError\u001b[0m: No module named 'cairosvg'"
     ]
    }
   ],
   "source": [
    "import cairosvg\n",
    "import sys\n",
    "#from pathlib import Path\n",
    "import createImages\n",
    "import cam2imageGUI as GUI\n",
    "import fileHandling\n",
    "import os"
   ]
  },
  {
   "cell_type": "markdown",
   "metadata": {},
   "source": [
    "# Defining basic settings\n",
    "*adress* sets the (web/lokal) adress where CAMEL is deployed (-> check the adress bar in your browser. Adjust if needed)."
   ]
  },
  {
   "cell_type": "code",
   "execution_count": 11,
   "metadata": {},
   "outputs": [
    {
     "name": "stdout",
     "output_type": "stream",
     "text": [
      "d:\\Coding\\CAM\\CAM2Image\\Citizen_Science_Script\n"
     ]
    }
   ],
   "source": [
    "adress = \"http://127.0.0.1:5500\" \n",
    "inputFileFormats = [\".json\", \".txt\"]  # Allowed file formats for CAM-files\n",
    "cwd = os.getcwd()\n",
    "print(cwd)"
   ]
  },
  {
   "cell_type": "markdown",
   "metadata": {},
   "source": [
    "# Defining paths to folders"
   ]
  },
  {
   "cell_type": "code",
   "execution_count": 12,
   "metadata": {},
   "outputs": [
    {
     "name": "stdout",
     "output_type": "stream",
     "text": [
      "File used is:  jatos_results_data_20231127164521.txt\n"
     ]
    }
   ],
   "source": [
    "txtList = []\n",
    "for file in os.listdir(cwd):\n",
    "    if file.endswith(\".txt\"):\n",
    "        txtList.append(file)\n",
    "\n",
    "if len(txtList) == 1 :\n",
    "    CAMfile = txtList[0]\n",
    "    print(\"File used is: \", str(CAMfile))\n",
    "else:\n",
    "    print(\"Make sure one and ONLY one txt file is in the folder. Check if cwd is correct if necessary\")\n",
    "    exit()\n",
    "\n",
    "splitDataFolder = os.path.join(cwd, \"split-data\")\n",
    "saveDir = os.path.join(cwd, \"SVGs\")\n",
    "pngDir = os.path.join(cwd, \"PNGs\")\n"
   ]
  },
  {
   "cell_type": "markdown",
   "metadata": {},
   "source": [
    "# Split files"
   ]
  },
  {
   "cell_type": "code",
   "execution_count": 10,
   "metadata": {},
   "outputs": [
    {
     "name": "stdout",
     "output_type": "stream",
     "text": [
      "File split into 17 files while writing 0 failed. Operation\n"
     ]
    }
   ],
   "source": [
    "numFilesCreated, numFilesFailed = fileHandling.splitFile(CAMfile, \"split_\", savefolder=splitDataFolder)\n",
    "print(\"File split into \" + str(numFilesCreated) + \" files\" + \" while writing \" + str(numFilesFailed) + \" failed. Operation\")\n",
    "splitFiles = fileHandling.listFilesInFolder(folderPath=str(splitDataFolder), patterns=inputFileFormats)"
   ]
  },
  {
   "cell_type": "markdown",
   "metadata": {},
   "source": [
    "# Create Images"
   ]
  },
  {
   "cell_type": "code",
   "execution_count": null,
   "metadata": {},
   "outputs": [],
   "source": [
    "try:\n",
    "    browser = createImages.initBrowser(adress=adress, pathOut=saveDir)  # Initializing a firefox-browser window with CAMEL\n",
    "except:\n",
    "    print(\"Failed to open browser window with CAMEL! Is firefox installed and the adress variable correctly set?\")\n",
    "\n",
    "\n",
    "try:\n",
    "    createImages.createSVGs(driver=browser, filesIn=splitFiles)  # Opening CAMEL in the browser Window, Loading CAMs into CAMEL ans saving a SVG of each CAM \n",
    "    browser.quit()  # Closing browser window(s) opened by the program\n",
    "    print(\"Operation finished\")\n",
    "except:\n",
    "    print(\"There was a problem with getting the vector graphics. Returning to the main menue\")"
   ]
  },
  {
   "cell_type": "markdown",
   "metadata": {},
   "source": [
    "# Convert Images to PNG"
   ]
  },
  {
   "cell_type": "code",
   "execution_count": 16,
   "metadata": {},
   "outputs": [
    {
     "name": "stdout",
     "output_type": "stream",
     "text": [
      "Converted images saved to:  d:\\Coding\\CAM\\CAM2Image\\Citizen_Science_Script\\PNGs\n",
      "{'CAMsvg-35568713-d857-4c3a-ac9a-b28be395ef9d(1)': WindowsPath('d:/Coding/CAM/CAM2Image/Citizen_Science_Script/SVGs/CAMsvg-35568713-d857-4c3a-ac9a-b28be395ef9d(1).svg'), 'CAMsvg-aaaa1(1)': WindowsPath('d:/Coding/CAM/CAM2Image/Citizen_Science_Script/SVGs/CAMsvg-aaaa1(1).svg'), 'CAMsvg-aaaa1': WindowsPath('d:/Coding/CAM/CAM2Image/Citizen_Science_Script/SVGs/CAMsvg-aaaa1.svg'), 'CAMsvg-abcd2': WindowsPath('d:/Coding/CAM/CAM2Image/Citizen_Science_Script/SVGs/CAMsvg-abcd2.svg'), 'CAMsvg-BPLu20': WindowsPath('d:/Coding/CAM/CAM2Image/Citizen_Science_Script/SVGs/CAMsvg-BPLu20.svg'), 'CAMsvg-DRGN26': WindowsPath('d:/Coding/CAM/CAM2Image/Citizen_Science_Script/SVGs/CAMsvg-DRGN26.svg'), 'CAMsvg-DTAU11': WindowsPath('d:/Coding/CAM/CAM2Image/Citizen_Science_Script/SVGs/CAMsvg-DTAU11.svg'), 'CAMsvg-EUMU17': WindowsPath('d:/Coding/CAM/CAM2Image/Citizen_Science_Script/SVGs/CAMsvg-EUMU17.svg'), 'CAMsvg-KNNN02': WindowsPath('d:/Coding/CAM/CAM2Image/Citizen_Science_Script/SVGs/CAMsvg-KNNN02.svg'), 'CAMsvg-noID(1)': WindowsPath('d:/Coding/CAM/CAM2Image/Citizen_Science_Script/SVGs/CAMsvg-noID(1).svg'), 'CAMsvg-noID(2)': WindowsPath('d:/Coding/CAM/CAM2Image/Citizen_Science_Script/SVGs/CAMsvg-noID(2).svg'), 'CAMsvg-noID': WindowsPath('d:/Coding/CAM/CAM2Image/Citizen_Science_Script/SVGs/CAMsvg-noID.svg'), 'CAMsvg-RMSN5': WindowsPath('d:/Coding/CAM/CAM2Image/Citizen_Science_Script/SVGs/CAMsvg-RMSN5.svg'), 'CAMsvg-SKHU8': WindowsPath('d:/Coding/CAM/CAM2Image/Citizen_Science_Script/SVGs/CAMsvg-SKHU8.svg'), 'CAMsvg-SKWN11': WindowsPath('d:/Coding/CAM/CAM2Image/Citizen_Science_Script/SVGs/CAMsvg-SKWN11.svg'), 'CAMsvg-SRKU22': WindowsPath('d:/Coding/CAM/CAM2Image/Citizen_Science_Script/SVGs/CAMsvg-SRKU22.svg'), 'CAMsvg-SWGG26': WindowsPath('d:/Coding/CAM/CAM2Image/Citizen_Science_Script/SVGs/CAMsvg-SWGG26.svg'), 'CAMsvg-Tester1': WindowsPath('d:/Coding/CAM/CAM2Image/Citizen_Science_Script/SVGs/CAMsvg-Tester1.svg')}\n"
     ]
    }
   ],
   "source": [
    "svgFileList = []\n",
    "for file in os.listdir(saveDir):\n",
    "    if file.endswith(\".svg\"):\n",
    "        svgFileList.append(os.path.join(saveDir, file))\n",
    "\n",
    "svgFilePathNameDict = fileHandling.prepSVGsForConversion(svgFileList)\n",
    "createImages.convertSVGs(inputSVGsDict=svgFilePathNameDict, pathOut=pngDir)\n",
    "print(\"Converted images saved to: \", str(pngDir))\n"
   ]
  }
 ],
 "metadata": {
  "kernelspec": {
   "display_name": "Python 3",
   "language": "python",
   "name": "python3"
  },
  "language_info": {
   "codemirror_mode": {
    "name": "ipython",
    "version": 3
   },
   "file_extension": ".py",
   "mimetype": "text/x-python",
   "name": "python",
   "nbconvert_exporter": "python",
   "pygments_lexer": "ipython3",
   "version": "3.9.5"
  }
 },
 "nbformat": 4,
 "nbformat_minor": 2
}
